{
 "cells": [
  {
   "cell_type": "markdown",
   "metadata": {},
   "source": [
    "# Titanic Survival Prediction - Team Challenge\n",
    "# 🚢 Predict Who Survived the Titanic Disaster\n",
    "\n",
    "## Challenge Overview\n",
    "\n",
    "**Objective**: Predict which passengers survived the Titanic shipwreck based on passenger data like age, sex, ticket class, etc.\n",
    "\n",
    "**Historical Context**: \n",
    "The RMS Titanic sank on April 15, 1912 during her maiden voyage after colliding with an iceberg. Of the estimated 2,224 passengers and crew aboard, more than 1,500 died, making it one of the deadliest peacetime maritime disasters in history. While there was some element of luck involved in surviving, some groups of people were more likely to survive than others.\n",
    "\n",
    "**Your Mission**: \n",
    "Build a predictive model that answers the question: \"What sorts of people were more likely to survive?\" using passenger data (name, age, gender, socio-economic class, etc.).\n",
    "\n",
    "**Dataset Features**: \n",
    "- **PassengerId** - Unique ID for each passenger\n",
    "- **Pclass** - Ticket class (1 = 1st class, 2 = 2nd class, 3 = 3rd class)\n",
    "- **Name** - Passenger name\n",
    "- **Sex** - Gender\n",
    "- **Age** - Age in years\n",
    "- **SibSp** - Number of siblings/spouses aboard\n",
    "- **Parch** - Number of parents/children aboard\n",
    "- **Ticket** - Ticket number\n",
    "- **Fare** - Passenger fare\n",
    "- **Cabin** - Cabin number\n",
    "- **Embarked** - Port of embarkation (C = Cherbourg, Q = Queenstown, S = Southampton)\n",
    "- **Survived** - TARGET - Survival (0 = No, 1 = Yes)"
   ]
  },
  {
   "cell_type": "markdown",
   "metadata": {},
   "source": [
    "## Challenge Rules & Guidelines\n",
    "\n",
    "### Time Limit: 20 Minutes ⏰\n",
    "Your goal is to improve upon this baseline implementation in 20 minutes.\n",
    "\n",
    "### Evaluation Metric: Classification Accuracy\n",
    "- Simple accuracy score (% correctly predicted)\n",
    "- Higher is better (max = 1.0 or 100%)\n",
    "- Binary classification: 0 = Died, 1 = Survived\n",
    "\n",
    "### Submission Requirements:\n",
    "1. Generate predictions for the test set (0 or 1 for each passenger)\n",
    "2. Create a CSV file with columns: 'PassengerId', 'Survived'  \n",
    "3. Submit to Kaggle for official scoring!\n",
    "\n",
    "https://www.kaggle.com/competitions/titanic/submissions \n",
    "\n",
    "### Improvement Ideas (Pick 1-2 to focus on):\n",
    "1. **Add More Features**: Include Sex, Age, Fare, family size (SibSp + Parch), Embarked port\n",
    "2. **Feature Engineering**: Extract titles from names, create age groups, family features\n",
    "3. **Model Selection**: Try Random Forest instead of Logistic Regression\n",
    "4. **Better Data Handling**: Improve missing value handling, categorical encoding\n"
   ]
  },
  {
   "cell_type": "code",
   "execution_count": null,
   "metadata": {},
   "outputs": [],
   "source": [
    "# Import necessary libraries\n",
    "import pandas as pd\n",
    "import numpy as np\n",
    "import matplotlib.pyplot as plt\n",
    "import seaborn as sns\n",
    "from sklearn.model_selection import train_test_split, cross_val_score\n",
    "from sklearn.ensemble import RandomForestClassifier\n",
    "from sklearn.linear_model import LogisticRegression\n",
    "from sklearn.preprocessing import LabelEncoder\n",
    "from sklearn.metrics import accuracy_score, classification_report, confusion_matrix\n",
    "import warnings\n",
    "warnings.filterwarnings('ignore')\n",
    "\n",
    "# Set random seed for reproducibility\n",
    "np.random.seed(42)\n"
   ]
  },
  {
   "cell_type": "markdown",
   "metadata": {},
   "source": [
    "## 1. Load and Explore Data"
   ]
  },
  {
   "cell_type": "code",
   "execution_count": null,
   "metadata": {},
   "outputs": [],
   "source": [
    "print(\"\\n📊 Loading Titanic data...\")\n",
    "\n",
    "# Load the Titanic dataset files\n",
    "# Download from: https://www.kaggle.com/c/titanic/data\n",
    "# Or use: kaggle competitions download -c titanic\n",
    "train = pd.read_csv('train.csv')\n",
    "test = pd.read_csv('test.csv')\n",
    "\n",
    "print(f\"✅ Training set shape: {train.shape}\")\n",
    "print(f\"✅ Test set shape: {test.shape}\")\n",
    "\n",
    "print(f\"\\n📋 Training data columns:\")\n",
    "print(train.columns.tolist())\n",
    "\n",
    "print(f\"\\n📋 Sample of training data:\")\n",
    "print(train.head())"
   ]
  },
  {
   "cell_type": "markdown",
   "metadata": {},
   "source": [
    "## 2. Data Exploration"
   ]
  },
  {
   "cell_type": "code",
   "execution_count": null,
   "metadata": {},
   "outputs": [],
   "source": [
    "print(\"\\n🔍 Quick data overview...\")\n",
    "\n",
    "# Basic survival statistics only\n",
    "print(f\"\\n⚰️  Survival Statistics:\")\n",
    "survived_counts = train['Survived'].value_counts()\n",
    "print(f\"Died: {survived_counts[0]}, Survived: {survived_counts[1]}\")\n",
    "print(f\"Overall survival rate: {train['Survived'].mean():.1%}\")\n",
    "\n",
    "# Basic info about the data\n",
    "print(f\"\\nDataset info:\")\n",
    "print(f\"Training samples: {len(train)}\")\n",
    "print(f\"Features: {train.columns.tolist()}\")\n",
    "print(f\"Missing values: {train.isnull().sum().sum()} total\")"
   ]
  },
  {
   "cell_type": "code",
   "execution_count": null,
   "metadata": {},
   "outputs": [],
   "source": [
    "# Basic visualizations to understand survival patterns\n",
    "fig, axes = plt.subplots(2, 2, figsize=(12, 10))\n",
    "\n",
    "# 1. Overall survival distribution\n",
    "train['Survived'].value_counts().plot(kind='bar', ax=axes[0,0], color=['red', 'green'])\n",
    "axes[0,0].set_title('Overall Survival')\n",
    "axes[0,0].set_xlabel('Survived (0=Died, 1=Survived)')\n",
    "axes[0,0].set_ylabel('Count')\n",
    "axes[0,0].tick_params(axis='x', rotation=0)\n",
    "\n",
    "# 2. Survival by Passenger Class - the most important pattern!\n",
    "pd.crosstab(train['Pclass'], train['Survived'], normalize='index').plot(kind='bar', ax=axes[0,1])\n",
    "axes[0,1].set_title('Survival Rate by Passenger Class')\n",
    "axes[0,1].set_xlabel('Passenger Class (1=First, 3=Third)')\n",
    "axes[0,1].set_ylabel('Survival Rate')\n",
    "axes[0,1].legend(['Died', 'Survived'])\n",
    "axes[0,1].tick_params(axis='x', rotation=0)\n",
    "\n",
    "# 3. Survival by Gender\n",
    "pd.crosstab(train['Sex'], train['Survived'], normalize='index').plot(kind='bar', ax=axes[1,0])\n",
    "axes[1,0].set_title('Survival Rate by Gender')\n",
    "axes[1,0].set_xlabel('Gender')\n",
    "axes[1,0].set_ylabel('Survival Rate')\n",
    "axes[1,0].legend(['Died', 'Survived'])\n",
    "axes[1,0].tick_params(axis='x', rotation=45)\n",
    "\n",
    "# 4. Age distribution by survival\n",
    "train[train['Survived']==0]['Age'].hist(alpha=0.5, bins=30, label='Died', color='red', ax=axes[1,1])\n",
    "train[train['Survived']==1]['Age'].hist(alpha=0.5, bins=30, label='Survived', color='green', ax=axes[1,1])\n",
    "axes[1,1].set_title('Age Distribution by Survival')\n",
    "axes[1,1].set_xlabel('Age')\n",
    "axes[1,1].set_ylabel('Count')\n",
    "axes[1,1].legend()\n",
    "\n",
    "plt.tight_layout()\n",
    "plt.show()\n",
    "\n",
    "print(\"\\n📊 Key Insights from Visualizations:\")\n",
    "print(\"   🎫 First-class passengers survived much more than third-class\")\n",
    "print(\"   👩 Women had higher survival rates than men\")\n",
    "print(\"   👶 Children and younger passengers had better survival chances\")"
   ]
  },
  {
   "cell_type": "code",
   "execution_count": null,
   "metadata": {},
   "outputs": [],
   "source": [
    "# Key survival patterns - the \"First Class First\" rule\n",
    "print(\"\\n🚢 Understanding Survival Patterns:\")\n",
    "\n",
    "# Survival by class  \n",
    "print(\"\\nSurvival by Passenger Class:\")\n",
    "class_stats = train.groupby('Pclass')['Survived'].agg(['count', 'sum', 'mean'])\n",
    "class_stats.columns = ['Total', 'Survived', 'Survival_Rate']\n",
    "for pclass, row in class_stats.iterrows():\n",
    "    print(f\"   Class {pclass}: {row['Survived']}/{row['Total']} ({row['Survival_Rate']:.1%})\")\n",
    "\n",
    "# Survival by gender\n",
    "print(\"\\nSurvival by Gender:\")\n",
    "gender_stats = train.groupby('Sex')['Survived'].agg(['count', 'sum', 'mean'])\n",
    "gender_stats.columns = ['Total', 'Survived', 'Survival_Rate']\n",
    "for sex, row in gender_stats.iterrows():\n",
    "    print(f\"   {sex.capitalize()}: {row['Survived']}/{row['Total']} ({row['Survival_Rate']:.1%})\")\n",
    "\n",
    "# Age insights\n",
    "print(f\"\\nAge Insights:\")\n",
    "print(f\"   Average age of survivors: {train[train['Survived']==1]['Age'].mean():.1f} years\")\n",
    "print(f\"   Average age of non-survivors: {train[train['Survived']==0]['Age'].mean():.1f} years\")\n",
    "\n",
    "print(f\"\\n💡 These patterns show why we need more features than just Pclass!\")"
   ]
  },
  {
   "cell_type": "markdown",
   "metadata": {},
   "source": [
    "## 3. Basic Feature Engineering (Intentionally Simple)"
   ]
  },
  {
   "cell_type": "code",
   "execution_count": null,
   "metadata": {},
   "outputs": [],
   "source": [
    "print(\"\\n⚙️  Very simple feature preparation...\")\n",
    "\n",
    "def simple_preprocessing(df, is_train=True):\n",
    "    \"\"\"Very basic preprocessing - only one feature\"\"\"\n",
    "    df_processed = df.copy()\n",
    "    \n",
    "    # Store PassengerId for test set submission\n",
    "    if not is_train:\n",
    "        passenger_ids = df_processed['PassengerId'].copy()\n",
    "    \n",
    "    # Only keep one feature\n",
    "    features_to_keep = ['Pclass', 'Survived']\n",
    "    if not is_train:\n",
    "        features_to_keep = ['Pclass']\n",
    "    \n",
    "    # Select only these features\n",
    "    df_processed = df_processed[features_to_keep]\n",
    "        \n",
    "    if not is_train:\n",
    "        return df_processed, passenger_ids\n",
    "    else:\n",
    "        return df_processed\n",
    "\n",
    "# Process training data\n",
    "train_processed = simple_preprocessing(train, is_train=True)\n",
    "\n",
    "# Separate features and target\n",
    "X = train_processed.drop('Survived', axis=1)\n",
    "y = train_processed['Survived']\n",
    "\n",
    "# Show processed data sample\n",
    "print(f\"\\n📋 Processed data sample:\")\n",
    "print(train_processed.head())"
   ]
  },
  {
   "cell_type": "markdown",
   "metadata": {},
   "source": [
    "## 4. Naive Model Implementation"
   ]
  },
  {
   "cell_type": "code",
   "execution_count": null,
   "metadata": {},
   "outputs": [],
   "source": [
    "print(\"\\n🤖 Training simple model...\")\n",
    "\n",
    "# Very simple train/validation split\n",
    "X_train, X_val, y_train, y_val = train_test_split(X, y, test_size=0.2, random_state=42)\n",
    "\n",
    "# Simple Logistic Regression\n",
    "model = LogisticRegression(random_state=42, max_iter=1000)\n",
    "\n",
    "print(\"Training model...\")\n",
    "model.fit(X_train, y_train)\n",
    "\n",
    "# Make predictions\n",
    "y_pred = model.predict(X_val)\n",
    "\n",
    "# Calculate accuracy\n",
    "accuracy = accuracy_score(y_val, y_pred)\n",
    "\n",
    "print(f\"\\n📈 Simple Model Results:\")\n",
    "print(f\"   Accuracy: {accuracy:.4f} ({accuracy*100:.2f}%)\")\n",
    "\n",
    "baseline_accuracy = accuracy"
   ]
  },
  {
   "cell_type": "markdown",
   "metadata": {},
   "source": [
    "## 5. Simple Model Analysis"
   ]
  },
  {
   "cell_type": "code",
   "execution_count": null,
   "metadata": {},
   "outputs": [],
   "source": [
    "print(\"\\n🎯 What the model learned...\")\n",
    "\n",
    "# Simple feature importance\n",
    "feature_names = X.columns\n",
    "coefficients = model.coef_[0]\n",
    "\n",
    "print(\"Feature importance (model coefficients):\")\n",
    "for feature, coef in zip(feature_names, coefficients):\n",
    "    print(f\"   {feature}: {coef:.3f}\")\n",
    "\n",
    "print(\"\\n💡 Interpretation:\")\n",
    "print(\"   Positive = increases survival chance\")\n",
    "print(\"   Negative = decreases survival chance\")"
   ]
  },
  {
   "cell_type": "markdown",
   "metadata": {},
   "source": [
    "## 6. Generate Test Predictions and Submission"
   ]
  },
  {
   "cell_type": "code",
   "execution_count": null,
   "metadata": {},
   "outputs": [],
   "source": [
    "print(\"\\n📝 Making predictions on test data...\")\n",
    "\n",
    "# Process test data using the same simple preprocessing\n",
    "test_processed, test_passenger_ids = simple_preprocessing(test, is_train=False)\n",
    "\n",
    "print(f\"Test set shape: {test_processed.shape}\")\n",
    "\n",
    "# Generate predictions\n",
    "test_predictions = model.predict(test_processed)\n",
    "\n",
    "print(f\"✅ Generated {len(test_predictions)} predictions\")\n",
    "print(f\"   Predicted Survived: {test_predictions.sum()}\")\n",
    "print(f\"   Predicted Died: {len(test_predictions) - test_predictions.sum()}\")"
   ]
  },
  {
   "cell_type": "code",
   "execution_count": null,
   "metadata": {},
   "outputs": [],
   "source": [
    "# Create submission file\n",
    "submission = pd.DataFrame({\n",
    "    'PassengerId': test_passenger_ids,\n",
    "    'Survived': test_predictions\n",
    "})\n",
    "\n",
    "# Save submission\n",
    "submission.to_csv('titanic_submission.csv', index=False)\n",
    "\n",
    "print(\"\\n📋 Submission file created: 'titanic_submission.csv'\")\n",
    "print(f\"Submission sample:\")\n",
    "print(submission.head())\n",
    "\n",
    "print(f\"\\n🚀 Ready to submit!\")\n",
    "print(f\"   Upload 'titanic_submission.csv' to Kaggle\")"
   ]
  },
  {
   "cell_type": "markdown",
   "metadata": {},
   "source": [
    "## 7. Ideas for Improvement\n",
    "\n",
    "This simple model only uses 1 basic feature: **Pclass** (passenger class). There's huge room for improvement!\n",
    "\n",
    "### 💡 IMPROVEMENTS TO TRY:\n",
    "\n",
    "**🚀 Add More Features:**\n",
    "- **Sex** - gender (we saw this matters a lot!)\n",
    "- **Age** - children had better survival chances\n",
    "- **Fare** - ticket price might indicate wealth/class\n",
    "- **SibSp + Parch** - family size affects survival\n",
    "- **Embarked** - port of departure\n",
    "- **FamilySize** = SibSp + Parch + 1 (create new feature)\n",
    "\n",
    "**⚙️ Better Feature Engineering:**\n",
    "- Extract **titles** from names (Mr., Mrs., Miss., Master.)\n",
    "- Create **age groups** (Child, Adult, Elderly)\n",
    "- **IsAlone** feature (FamilySize == 1)\n",
    "- Better handling of **missing Age values**\n",
    "\n",
    "**🤖 Try Different Models:**\n",
    "- **Random Forest** (often works better than Logistic Regression)\n",
    "- **XGBoost** or other boosting methods\n",
    "\n",
    "**📊 Better Data Handling:**\n",
    "- One-hot encoding for categorical variables\n",
    "- Feature scaling/normalization\n",
    "- Handle **Cabin** information (extract deck letters)\n",
    "\n",
    "### 🎯 Current Score vs. Potential:\n",
    "- **Current minimal model**: ~65% accuracy (just passenger class!)  \n",
    "- **Easy improvement**: >78% (add gender)\n",
    "- **Good improvements**: 80-83% accuracy\n",
    "- **Advanced techniques**: 83%+ accuracy"
   ]
  },
  {
   "cell_type": "markdown",
   "metadata": {},
   "source": [
    "## 🎯 Current Model Summary\n",
    "\n",
    "**CURRENT MINIMAL MODEL:** Uses only Pclass (passenger class) feature\n",
    "- **Accuracy:** ~65% \n",
    "- **Approach:** Simple Logistic Regression with just 1 feature\n",
    "\n",
    "🚀 **Huge room for improvement!**\n",
    "\n",
    "### 💡 Easy wins to try first:\n",
    "1. **Add Sex feature** (we saw gender matters a lot!)\n",
    "2. **Add Age feature** (children had better survival chances)  \n",
    "3. **Add Fare feature** (wealth/class indicator)\n",
    "4. **Add family features** (SibSp, Parch, or FamilySize)\n",
    "5. **Try Random Forest** instead of Logistic Regression"
   ]
  }
 ],
 "metadata": {
  "kernelspec": {
   "display_name": "Python 3",
   "language": "python",
   "name": "python3"
  },
  "language_info": {
   "codemirror_mode": {
    "name": "ipython",
    "version": 3
   },
   "file_extension": ".py",
   "mimetype": "text/x-python",
   "name": "python",
   "nbconvert_exporter": "python",
   "version": "3.8.0"
  }
 },
 "nbformat": 4,
 "nbformat_minor": 4
}
